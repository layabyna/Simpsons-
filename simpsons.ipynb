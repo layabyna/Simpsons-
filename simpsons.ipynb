{
 "cells": [
  {
   "cell_type": "code",
   "execution_count": 1,
   "id": "a2c7d3cf",
   "metadata": {
    "_cell_guid": "b1076dfc-b9ad-4769-8c92-a6c4dae69d19",
    "_uuid": "8f2839f25d086af736a60e9eeb907d3b93b6e0e5",
    "execution": {
     "iopub.execute_input": "2022-09-25T07:02:12.506055Z",
     "iopub.status.busy": "2022-09-25T07:02:12.505486Z",
     "iopub.status.idle": "2022-09-25T07:02:41.881530Z",
     "shell.execute_reply": "2022-09-25T07:02:41.880316Z"
    },
    "papermill": {
     "duration": 29.386547,
     "end_time": "2022-09-25T07:02:41.884123",
     "exception": false,
     "start_time": "2022-09-25T07:02:12.497576",
     "status": "completed"
    },
    "tags": []
   },
   "outputs": [
    {
     "name": "stdout",
     "output_type": "stream",
     "text": [
      "Collecting caer\r\n",
      "  Downloading caer-2.0.8-py3-none-any.whl (809 kB)\r\n",
      "\u001b[2K     \u001b[90m━━━━━━━━━━━━━━━━━━━━━━━━━━━━━━━━━━━━━━━\u001b[0m \u001b[32m809.5/809.5 kB\u001b[0m \u001b[31m2.1 MB/s\u001b[0m eta \u001b[36m0:00:00\u001b[0m\r\n",
      "\u001b[?25hCollecting canaro\r\n",
      "  Downloading canaro-1.1.0-py3-none-any.whl (19 kB)\r\n",
      "Collecting mypy\r\n",
      "  Downloading mypy-0.971-cp37-cp37m-manylinux_2_5_x86_64.manylinux1_x86_64.manylinux_2_12_x86_64.manylinux2010_x86_64.whl (15.0 MB)\r\n",
      "\u001b[2K     \u001b[90m━━━━━━━━━━━━━━━━━━━━━━━━━━━━━━━━━━━━━━━━\u001b[0m \u001b[32m15.0/15.0 MB\u001b[0m \u001b[31m25.5 MB/s\u001b[0m eta \u001b[36m0:00:00\u001b[0m\r\n",
      "\u001b[?25hRequirement already satisfied: opencv-contrib-python in /opt/conda/lib/python3.7/site-packages (from caer) (4.5.4.60)\r\n",
      "Requirement already satisfied: numpy in /opt/conda/lib/python3.7/site-packages (from caer) (1.21.6)\r\n",
      "Requirement already satisfied: typing-extensions in /opt/conda/lib/python3.7/site-packages (from caer) (4.3.0)\r\n",
      "Requirement already satisfied: tensorflow in /opt/conda/lib/python3.7/site-packages (from canaro) (2.6.4)\r\n",
      "Requirement already satisfied: tomli>=1.1.0 in /opt/conda/lib/python3.7/site-packages (from mypy->caer) (2.0.1)\r\n",
      "Requirement already satisfied: mypy-extensions>=0.4.3 in /opt/conda/lib/python3.7/site-packages (from mypy->caer) (0.4.3)\r\n",
      "Requirement already satisfied: typed-ast<2,>=1.4.0 in /opt/conda/lib/python3.7/site-packages (from mypy->caer) (1.5.4)\r\n",
      "Requirement already satisfied: keras-preprocessing~=1.1.2 in /opt/conda/lib/python3.7/site-packages (from tensorflow->canaro) (1.1.2)\r\n",
      "Requirement already satisfied: protobuf>=3.9.2 in /opt/conda/lib/python3.7/site-packages (from tensorflow->canaro) (3.19.4)\r\n",
      "Requirement already satisfied: opt-einsum~=3.3.0 in /opt/conda/lib/python3.7/site-packages (from tensorflow->canaro) (3.3.0)\r\n",
      "Requirement already satisfied: wheel~=0.35 in /opt/conda/lib/python3.7/site-packages (from tensorflow->canaro) (0.37.1)\r\n",
      "Requirement already satisfied: wrapt~=1.12.1 in /opt/conda/lib/python3.7/site-packages (from tensorflow->canaro) (1.12.1)\r\n",
      "Requirement already satisfied: google-pasta~=0.2 in /opt/conda/lib/python3.7/site-packages (from tensorflow->canaro) (0.2.0)\r\n",
      "Requirement already satisfied: termcolor~=1.1.0 in /opt/conda/lib/python3.7/site-packages (from tensorflow->canaro) (1.1.0)\r\n",
      "Requirement already satisfied: tensorflow-estimator<2.7,>=2.6.0 in /opt/conda/lib/python3.7/site-packages (from tensorflow->canaro) (2.6.0)\r\n",
      "Collecting numpy\r\n",
      "  Downloading numpy-1.19.5-cp37-cp37m-manylinux2010_x86_64.whl (14.8 MB)\r\n",
      "\u001b[2K     \u001b[90m━━━━━━━━━━━━━━━━━━━━━━━━━━━━━━━━━━━━━━━━\u001b[0m \u001b[32m14.8/14.8 MB\u001b[0m \u001b[31m29.0 MB/s\u001b[0m eta \u001b[36m0:00:00\u001b[0m\r\n",
      "\u001b[?25hRequirement already satisfied: absl-py~=0.10 in /opt/conda/lib/python3.7/site-packages (from tensorflow->canaro) (0.15.0)\r\n",
      "Requirement already satisfied: grpcio<2.0,>=1.37.0 in /opt/conda/lib/python3.7/site-packages (from tensorflow->canaro) (1.43.0)\r\n",
      "Collecting tensorboard<2.7,>=2.6.0\r\n",
      "  Downloading tensorboard-2.6.0-py3-none-any.whl (5.6 MB)\r\n",
      "\u001b[2K     \u001b[90m━━━━━━━━━━━━━━━━━━━━━━━━━━━━━━━━━━━━━━━━\u001b[0m \u001b[32m5.6/5.6 MB\u001b[0m \u001b[31m40.9 MB/s\u001b[0m eta \u001b[36m0:00:00\u001b[0m\r\n",
      "\u001b[?25hCollecting typing-extensions\r\n",
      "  Downloading typing_extensions-3.10.0.2-py3-none-any.whl (26 kB)\r\n",
      "Requirement already satisfied: six~=1.15.0 in /opt/conda/lib/python3.7/site-packages (from tensorflow->canaro) (1.15.0)\r\n",
      "Requirement already satisfied: keras<2.7,>=2.6.0 in /opt/conda/lib/python3.7/site-packages (from tensorflow->canaro) (2.6.0)\r\n",
      "Requirement already satisfied: astunparse~=1.6.3 in /opt/conda/lib/python3.7/site-packages (from tensorflow->canaro) (1.6.3)\r\n",
      "Collecting h5py~=3.1.0\r\n",
      "  Downloading h5py-3.1.0-cp37-cp37m-manylinux1_x86_64.whl (4.0 MB)\r\n",
      "\u001b[2K     \u001b[90m━━━━━━━━━━━━━━━━━━━━━━━━━━━━━━━━━━━━━━━━\u001b[0m \u001b[32m4.0/4.0 MB\u001b[0m \u001b[31m34.3 MB/s\u001b[0m eta \u001b[36m0:00:00\u001b[0m\r\n",
      "\u001b[?25hRequirement already satisfied: clang~=5.0 in /opt/conda/lib/python3.7/site-packages (from tensorflow->canaro) (5.0)\r\n",
      "Requirement already satisfied: gast==0.4.0 in /opt/conda/lib/python3.7/site-packages (from tensorflow->canaro) (0.4.0)\r\n",
      "Requirement already satisfied: flatbuffers~=1.12.0 in /opt/conda/lib/python3.7/site-packages (from tensorflow->canaro) (1.12)\r\n",
      "Requirement already satisfied: cached-property in /opt/conda/lib/python3.7/site-packages (from h5py~=3.1.0->tensorflow->canaro) (1.5.2)\r\n",
      "Requirement already satisfied: markdown>=2.6.8 in /opt/conda/lib/python3.7/site-packages (from tensorboard<2.7,>=2.6.0->tensorflow->canaro) (3.3.7)\r\n",
      "Requirement already satisfied: setuptools>=41.0.0 in /opt/conda/lib/python3.7/site-packages (from tensorboard<2.7,>=2.6.0->tensorflow->canaro) (59.8.0)\r\n",
      "Requirement already satisfied: tensorboard-plugin-wit>=1.6.0 in /opt/conda/lib/python3.7/site-packages (from tensorboard<2.7,>=2.6.0->tensorflow->canaro) (1.8.1)\r\n",
      "Requirement already satisfied: werkzeug>=0.11.15 in /opt/conda/lib/python3.7/site-packages (from tensorboard<2.7,>=2.6.0->tensorflow->canaro) (2.2.2)\r\n",
      "Requirement already satisfied: google-auth<2,>=1.6.3 in /opt/conda/lib/python3.7/site-packages (from tensorboard<2.7,>=2.6.0->tensorflow->canaro) (1.35.0)\r\n",
      "Requirement already satisfied: requests<3,>=2.21.0 in /opt/conda/lib/python3.7/site-packages (from tensorboard<2.7,>=2.6.0->tensorflow->canaro) (2.28.1)\r\n",
      "Requirement already satisfied: tensorboard-data-server<0.7.0,>=0.6.0 in /opt/conda/lib/python3.7/site-packages (from tensorboard<2.7,>=2.6.0->tensorflow->canaro) (0.6.1)\r\n",
      "Requirement already satisfied: google-auth-oauthlib<0.5,>=0.4.1 in /opt/conda/lib/python3.7/site-packages (from tensorboard<2.7,>=2.6.0->tensorflow->canaro) (0.4.6)\r\n",
      "Requirement already satisfied: rsa<5,>=3.1.4 in /opt/conda/lib/python3.7/site-packages (from google-auth<2,>=1.6.3->tensorboard<2.7,>=2.6.0->tensorflow->canaro) (4.8)\r\n",
      "Requirement already satisfied: pyasn1-modules>=0.2.1 in /opt/conda/lib/python3.7/site-packages (from google-auth<2,>=1.6.3->tensorboard<2.7,>=2.6.0->tensorflow->canaro) (0.2.7)\r\n",
      "Requirement already satisfied: cachetools<5.0,>=2.0.0 in /opt/conda/lib/python3.7/site-packages (from google-auth<2,>=1.6.3->tensorboard<2.7,>=2.6.0->tensorflow->canaro) (4.2.4)\r\n",
      "Requirement already satisfied: requests-oauthlib>=0.7.0 in /opt/conda/lib/python3.7/site-packages (from google-auth-oauthlib<0.5,>=0.4.1->tensorboard<2.7,>=2.6.0->tensorflow->canaro) (1.3.1)\r\n",
      "Requirement already satisfied: importlib-metadata>=4.4 in /opt/conda/lib/python3.7/site-packages (from markdown>=2.6.8->tensorboard<2.7,>=2.6.0->tensorflow->canaro) (4.12.0)\r\n",
      "Requirement already satisfied: charset-normalizer<3,>=2 in /opt/conda/lib/python3.7/site-packages (from requests<3,>=2.21.0->tensorboard<2.7,>=2.6.0->tensorflow->canaro) (2.1.0)\r\n",
      "Requirement already satisfied: idna<4,>=2.5 in /opt/conda/lib/python3.7/site-packages (from requests<3,>=2.21.0->tensorboard<2.7,>=2.6.0->tensorflow->canaro) (3.3)\r\n",
      "Requirement already satisfied: urllib3<1.27,>=1.21.1 in /opt/conda/lib/python3.7/site-packages (from requests<3,>=2.21.0->tensorboard<2.7,>=2.6.0->tensorflow->canaro) (1.26.12)\r\n",
      "Requirement already satisfied: certifi>=2017.4.17 in /opt/conda/lib/python3.7/site-packages (from requests<3,>=2.21.0->tensorboard<2.7,>=2.6.0->tensorflow->canaro) (2022.6.15.2)\r\n",
      "Requirement already satisfied: MarkupSafe>=2.1.1 in /opt/conda/lib/python3.7/site-packages (from werkzeug>=0.11.15->tensorboard<2.7,>=2.6.0->tensorflow->canaro) (2.1.1)\r\n",
      "Requirement already satisfied: zipp>=0.5 in /opt/conda/lib/python3.7/site-packages (from importlib-metadata>=4.4->markdown>=2.6.8->tensorboard<2.7,>=2.6.0->tensorflow->canaro) (3.8.0)\r\n",
      "Requirement already satisfied: pyasn1<0.5.0,>=0.4.6 in /opt/conda/lib/python3.7/site-packages (from pyasn1-modules>=0.2.1->google-auth<2,>=1.6.3->tensorboard<2.7,>=2.6.0->tensorflow->canaro) (0.4.8)\r\n",
      "Requirement already satisfied: oauthlib>=3.0.0 in /opt/conda/lib/python3.7/site-packages (from requests-oauthlib>=0.7.0->google-auth-oauthlib<0.5,>=0.4.1->tensorboard<2.7,>=2.6.0->tensorflow->canaro) (3.2.0)\r\n",
      "Installing collected packages: typing-extensions, numpy, mypy, h5py, caer, tensorboard, canaro\r\n",
      "  Attempting uninstall: typing-extensions\r\n",
      "    Found existing installation: typing_extensions 4.3.0\r\n",
      "    Uninstalling typing_extensions-4.3.0:\r\n",
      "      Successfully uninstalled typing_extensions-4.3.0\r\n",
      "  Attempting uninstall: numpy\r\n",
      "    Found existing installation: numpy 1.21.6\r\n",
      "    Uninstalling numpy-1.21.6:\r\n",
      "      Successfully uninstalled numpy-1.21.6\r\n",
      "  Attempting uninstall: h5py\r\n",
      "    Found existing installation: h5py 3.7.0\r\n",
      "    Uninstalling h5py-3.7.0:\r\n",
      "      Successfully uninstalled h5py-3.7.0\r\n",
      "  Attempting uninstall: tensorboard\r\n",
      "    Found existing installation: tensorboard 2.10.0\r\n",
      "    Uninstalling tensorboard-2.10.0:\r\n",
      "      Successfully uninstalled tensorboard-2.10.0\r\n",
      "\u001b[31mERROR: pip's dependency resolver does not currently take into account all the packages that are installed. This behaviour is the source of the following dependency conflicts.\r\n",
      "tensorflow-io 0.21.0 requires tensorflow-io-gcs-filesystem==0.21.0, which is not installed.\r\n",
      "dask-cudf 21.10.1 requires cupy-cuda114, which is not installed.\r\n",
      "beatrix-jupyterlab 3.1.7 requires google-cloud-bigquery-storage, which is not installed.\r\n",
      "xarray-einstats 0.2.2 requires numpy>=1.21, but you have numpy 1.19.5 which is incompatible.\r\n",
      "tfx-bsl 1.9.0 requires tensorflow!=2.0.*,!=2.1.*,!=2.2.*,!=2.3.*,!=2.4.*,!=2.5.*,!=2.6.*,!=2.7.*,!=2.8.*,<3,>=1.15.5, but you have tensorflow 2.6.4 which is incompatible.\r\n",
      "tensorflow-transform 1.9.0 requires tensorflow!=2.0.*,!=2.1.*,!=2.2.*,!=2.3.*,!=2.4.*,!=2.5.*,!=2.6.*,!=2.7.*,!=2.8.*,<2.10,>=1.15.5, but you have tensorflow 2.6.4 which is incompatible.\r\n",
      "tensorflow-serving-api 2.9.0 requires tensorflow<3,>=2.9.0, but you have tensorflow 2.6.4 which is incompatible.\r\n",
      "pytorch-lightning 1.7.6 requires tensorboard>=2.9.1, but you have tensorboard 2.6.0 which is incompatible.\r\n",
      "pytorch-lightning 1.7.6 requires typing-extensions>=4.0.0, but you have typing-extensions 3.10.0.2 which is incompatible.\r\n",
      "pytools 2022.1.12 requires typing-extensions>=4.0; python_version < \"3.11\", but you have typing-extensions 3.10.0.2 which is incompatible.\r\n",
      "pdpbox 0.2.1 requires matplotlib==3.1.1, but you have matplotlib 3.5.3 which is incompatible.\r\n",
      "pandas-profiling 3.1.0 requires markupsafe~=2.0.1, but you have markupsafe 2.1.1 which is incompatible.\r\n",
      "nnabla 1.30.0 requires numpy>=1.20.0, but you have numpy 1.19.5 which is incompatible.\r\n",
      "jax 0.3.17 requires numpy>=1.20, but you have numpy 1.19.5 which is incompatible.\r\n",
      "flax 0.6.0 requires rich~=11.1, but you have rich 12.1.0 which is incompatible.\r\n",
      "flax 0.6.0 requires typing-extensions>=4.1.1, but you have typing-extensions 3.10.0.2 which is incompatible.\r\n",
      "flake8 4.0.1 requires importlib-metadata<4.3; python_version < \"3.8\", but you have importlib-metadata 4.12.0 which is incompatible.\r\n",
      "featuretools 1.11.1 requires numpy>=1.21.0, but you have numpy 1.19.5 which is incompatible.\r\n",
      "dask-cudf 21.10.1 requires dask==2021.09.1, but you have dask 2022.2.0 which is incompatible.\r\n",
      "dask-cudf 21.10.1 requires distributed==2021.09.1, but you have distributed 2022.2.0 which is incompatible.\r\n",
      "cmdstanpy 1.0.7 requires numpy>=1.21, but you have numpy 1.19.5 which is incompatible.\r\n",
      "apache-beam 2.40.0 requires dill<0.3.2,>=0.3.1.1, but you have dill 0.3.5.1 which is incompatible.\r\n",
      "allennlp 2.10.0 requires h5py>=3.6.0, but you have h5py 3.1.0 which is incompatible.\r\n",
      "allennlp 2.10.0 requires numpy>=1.21.4, but you have numpy 1.19.5 which is incompatible.\r\n",
      "allennlp 2.10.0 requires protobuf==3.20.0, but you have protobuf 3.19.4 which is incompatible.\r\n",
      "aioitertools 0.10.0 requires typing_extensions>=4.0; python_version < \"3.10\", but you have typing-extensions 3.10.0.2 which is incompatible.\r\n",
      "aiobotocore 2.4.0 requires botocore<1.27.60,>=1.27.59, but you have botocore 1.27.72 which is incompatible.\u001b[0m\u001b[31m\r\n",
      "\u001b[0mSuccessfully installed caer-2.0.8 canaro-1.1.0 h5py-3.1.0 mypy-0.971 numpy-1.19.5 tensorboard-2.6.0 typing-extensions-3.10.0.2\r\n",
      "\u001b[33mWARNING: Running pip as the 'root' user can result in broken permissions and conflicting behaviour with the system package manager. It is recommended to use a virtual environment instead: https://pip.pypa.io/warnings/venv\u001b[0m\u001b[33m\r\n",
      "\u001b[0m"
     ]
    }
   ],
   "source": [
    "!pip install caer canaro\n"
   ]
  },
  {
   "cell_type": "code",
   "execution_count": 2,
   "id": "d4f2b1fe",
   "metadata": {
    "execution": {
     "iopub.execute_input": "2022-09-25T07:02:41.903348Z",
     "iopub.status.busy": "2022-09-25T07:02:41.903028Z",
     "iopub.status.idle": "2022-09-25T07:02:46.486002Z",
     "shell.execute_reply": "2022-09-25T07:02:46.484863Z"
    },
    "papermill": {
     "duration": 4.595356,
     "end_time": "2022-09-25T07:02:46.488902",
     "exception": false,
     "start_time": "2022-09-25T07:02:41.893546",
     "status": "completed"
    },
    "tags": []
   },
   "outputs": [],
   "source": [
    "import os\n",
    "import caer\n",
    "import canaro\n",
    "import numpy as np\n",
    "import cv2 as cv\n",
    "import gc"
   ]
  },
  {
   "cell_type": "code",
   "execution_count": 3,
   "id": "d09e8e7c",
   "metadata": {
    "execution": {
     "iopub.execute_input": "2022-09-25T07:02:46.508374Z",
     "iopub.status.busy": "2022-09-25T07:02:46.506735Z",
     "iopub.status.idle": "2022-09-25T07:02:46.511904Z",
     "shell.execute_reply": "2022-09-25T07:02:46.511074Z"
    },
    "papermill": {
     "duration": 0.016406,
     "end_time": "2022-09-25T07:02:46.513974",
     "exception": false,
     "start_time": "2022-09-25T07:02:46.497568",
     "status": "completed"
    },
    "tags": []
   },
   "outputs": [],
   "source": [
    "IMG_SIZE = (80,80)\n",
    "channels =1 # colours\n",
    "char_path = r'../input/the-simpsons-characters-dataset/simpsons_dataset'\n",
    "#base path"
   ]
  },
  {
   "cell_type": "code",
   "execution_count": 4,
   "id": "0fdd8856",
   "metadata": {
    "execution": {
     "iopub.execute_input": "2022-09-25T07:02:46.531110Z",
     "iopub.status.busy": "2022-09-25T07:02:46.530856Z",
     "iopub.status.idle": "2022-09-25T07:02:46.580771Z",
     "shell.execute_reply": "2022-09-25T07:02:46.578391Z"
    },
    "papermill": {
     "duration": 0.061896,
     "end_time": "2022-09-25T07:02:46.583947",
     "exception": false,
     "start_time": "2022-09-25T07:02:46.522051",
     "status": "completed"
    },
    "tags": []
   },
   "outputs": [
    {
     "data": {
      "text/plain": [
       "[('rainier_wolfcastle', 43),\n",
       " ('maggie_simpson', 43),\n",
       " ('krusty_the_clown', 43),\n",
       " ('waylon_smithers', 43),\n",
       " ('professor_john_frink', 43),\n",
       " ('fat_tony', 43),\n",
       " ('ralph_wiggum', 43),\n",
       " ('otto_mann', 43),\n",
       " ('martin_prince', 43),\n",
       " ('barney_gumble', 43),\n",
       " ('ned_flanders', 43),\n",
       " ('patty_bouvier', 43),\n",
       " ('sideshow_mel', 43),\n",
       " ('marge_simpson', 43),\n",
       " ('abraham_grampa_simpson', 43),\n",
       " ('selma_bouvier', 43),\n",
       " ('mayor_quimby', 43),\n",
       " ('disco_stu', 43),\n",
       " ('lionel_hutz', 43),\n",
       " ('simpsons_dataset', 43),\n",
       " ('troy_mcclure', 43),\n",
       " ('agnes_skinner', 43),\n",
       " ('groundskeeper_willie', 43),\n",
       " ('kent_brockman', 43),\n",
       " ('charles_montgomery_burns', 43),\n",
       " ('carl_carlson', 43),\n",
       " ('chief_wiggum', 43),\n",
       " ('apu_nahasapeemapetilon', 43),\n",
       " ('bart_simpson', 43),\n",
       " ('edna_krabappel', 43),\n",
       " ('gil', 43),\n",
       " ('comic_book_guy', 43),\n",
       " ('principal_skinner', 43),\n",
       " ('cletus_spuckler', 43),\n",
       " ('milhouse_van_houten', 43),\n",
       " ('snake_jailbird', 43),\n",
       " ('nelson_muntz', 43),\n",
       " ('lisa_simpson', 43),\n",
       " ('lenny_leonard', 43),\n",
       " ('moe_szyslak', 43),\n",
       " ('miss_hoover', 43),\n",
       " ('homer_simpson', 43),\n",
       " ('sideshow_bob', 43)]"
      ]
     },
     "execution_count": 4,
     "metadata": {},
     "output_type": "execute_result"
    }
   ],
   "source": [
    "char_dict = {}\n",
    "for char in os.listdir(char_path):\n",
    "    char_dict[char] = len(os.listdir(os.path.join(char_path)))\n",
    "    # going through each folder and getting numbers of each folder and store in dictionary\n",
    "    \n",
    "#sort dictionary in descending order\n",
    "char_dict = caer.sort_dict(char_dict,descending = True)\n",
    "char_dict\n",
    "    \n"
   ]
  },
  {
   "cell_type": "code",
   "execution_count": 5,
   "id": "be861c01",
   "metadata": {
    "execution": {
     "iopub.execute_input": "2022-09-25T07:02:46.621401Z",
     "iopub.status.busy": "2022-09-25T07:02:46.620438Z",
     "iopub.status.idle": "2022-09-25T07:02:46.628817Z",
     "shell.execute_reply": "2022-09-25T07:02:46.627704Z"
    },
    "papermill": {
     "duration": 0.021986,
     "end_time": "2022-09-25T07:02:46.631076",
     "exception": false,
     "start_time": "2022-09-25T07:02:46.609090",
     "status": "completed"
    },
    "tags": []
   },
   "outputs": [
    {
     "data": {
      "text/plain": [
       "['rainier_wolfcastle',\n",
       " 'maggie_simpson',\n",
       " 'krusty_the_clown',\n",
       " 'waylon_smithers',\n",
       " 'professor_john_frink',\n",
       " 'fat_tony',\n",
       " 'ralph_wiggum',\n",
       " 'otto_mann',\n",
       " 'martin_prince',\n",
       " 'barney_gumble']"
      ]
     },
     "execution_count": 5,
     "metadata": {},
     "output_type": "execute_result"
    }
   ],
   "source": [
    "#store first ten in a list\n",
    "characters =[]\n",
    "count =0\n",
    "for i in char_dict:\n",
    "    characters.append(i[0])\n",
    "    count+= 1\n",
    "    if count >=10:\n",
    "        break\n",
    "characters        \n",
    "        \n",
    "        "
   ]
  },
  {
   "cell_type": "code",
   "execution_count": 6,
   "id": "9cb3fed4",
   "metadata": {
    "execution": {
     "iopub.execute_input": "2022-09-25T07:02:46.652318Z",
     "iopub.status.busy": "2022-09-25T07:02:46.651933Z",
     "iopub.status.idle": "2022-09-25T07:03:08.234681Z",
     "shell.execute_reply": "2022-09-25T07:03:08.233654Z"
    },
    "papermill": {
     "duration": 21.595896,
     "end_time": "2022-09-25T07:03:08.236974",
     "exception": false,
     "start_time": "2022-09-25T07:02:46.641078",
     "status": "completed"
    },
    "tags": []
   },
   "outputs": [
    {
     "name": "stdout",
     "output_type": "stream",
     "text": [
      "[INFO] Could not find a file to load from. Generating the training data\n",
      "----------------------------------------------\n",
      "[INFO] 45 files found in 0.021829605102539062s\n",
      "[INFO] 128 files found in 0.06393241882324219s\n",
      "[INFO] At 1000 files\n",
      "[INFO] 1206 files found in 0.7139759063720703s\n",
      "[INFO] 181 files found in 0.13119959831237793s\n",
      "[INFO] 65 files found in 0.036995649337768555s\n",
      "[INFO] 27 files found in 0.010294675827026367s\n",
      "[INFO] 89 files found in 0.04787802696228027s\n",
      "[INFO] 32 files found in 0.02050018310546875s\n",
      "[INFO] 71 files found in 0.027734041213989258s\n",
      "[INFO] 106 files found in 0.053206682205200195s\n",
      "----------------------------------------------\n",
      "[INFO] 1950 files preprocessed! Took 0m 22s\n"
     ]
    }
   ],
   "source": [
    "#creation of training data\n",
    "#this goes through every folder in char_path i.e simpsons dataset and look through\n",
    "#ex looks for rainier in simpsons dataset\n",
    "train = caer.preprocess_from_dir(char_path,characters,channels=channels, IMG_SIZE = IMG_SIZE,isShuffle =True)\n",
    "#trainig set is a list and each element is also a list\n",
    "#mapping\n"
   ]
  },
  {
   "cell_type": "code",
   "execution_count": 7,
   "id": "129ced38",
   "metadata": {
    "execution": {
     "iopub.execute_input": "2022-09-25T07:03:08.257637Z",
     "iopub.status.busy": "2022-09-25T07:03:08.257057Z",
     "iopub.status.idle": "2022-09-25T07:03:08.263677Z",
     "shell.execute_reply": "2022-09-25T07:03:08.262655Z"
    },
    "papermill": {
     "duration": 0.02072,
     "end_time": "2022-09-25T07:03:08.266913",
     "exception": false,
     "start_time": "2022-09-25T07:03:08.246193",
     "status": "completed"
    },
    "tags": []
   },
   "outputs": [
    {
     "data": {
      "text/plain": [
       "1950"
      ]
     },
     "execution_count": 7,
     "metadata": {},
     "output_type": "execute_result"
    }
   ],
   "source": [
    "len(train)"
   ]
  },
  {
   "cell_type": "code",
   "execution_count": 8,
   "id": "0a2c0dee",
   "metadata": {
    "execution": {
     "iopub.execute_input": "2022-09-25T07:03:08.287044Z",
     "iopub.status.busy": "2022-09-25T07:03:08.286770Z",
     "iopub.status.idle": "2022-09-25T07:03:08.496910Z",
     "shell.execute_reply": "2022-09-25T07:03:08.496050Z"
    },
    "papermill": {
     "duration": 0.222983,
     "end_time": "2022-09-25T07:03:08.499121",
     "exception": false,
     "start_time": "2022-09-25T07:03:08.276138",
     "status": "completed"
    },
    "tags": []
   },
   "outputs": [
    {
     "data": {
      "image/png": "[encoded data removed]",
      "text/plain": [
       "<Figure size 432x288 with 1 Axes>"
      ]
     },
     "metadata": {
      "needs_background": "light"
     },
     "output_type": "display_data"
    }
   ],
   "source": [
    "import matplotlib.pyplot as plt\n",
    "#plt.figure(figsize(30,30))\n",
    "plt.imshow(train[0][0],cmap = 'gray')\n",
    "plt.show()\n"
   ]
  },
  {
   "cell_type": "code",
   "execution_count": 9,
   "id": "09664ca6",
   "metadata": {
    "execution": {
     "iopub.execute_input": "2022-09-25T07:03:08.520462Z",
     "iopub.status.busy": "2022-09-25T07:03:08.519872Z",
     "iopub.status.idle": "2022-09-25T07:03:08.532041Z",
     "shell.execute_reply": "2022-09-25T07:03:08.531160Z"
    },
    "papermill": {
     "duration": 0.025077,
     "end_time": "2022-09-25T07:03:08.534185",
     "exception": false,
     "start_time": "2022-09-25T07:03:08.509108",
     "status": "completed"
    },
    "tags": []
   },
   "outputs": [],
   "source": [
    "#training set is now a list we need to seperate as list and features\n",
    "featureSet,labels = caer.sep_train(train,IMG_SIZE=IMG_SIZE)\n"
   ]
  },
  {
   "cell_type": "code",
   "execution_count": 10,
   "id": "40987546",
   "metadata": {
    "execution": {
     "iopub.execute_input": "2022-09-25T07:03:08.556281Z",
     "iopub.status.busy": "2022-09-25T07:03:08.554697Z",
     "iopub.status.idle": "2022-09-25T07:03:08.577217Z",
     "shell.execute_reply": "2022-09-25T07:03:08.576201Z"
    },
    "papermill": {
     "duration": 0.03615,
     "end_time": "2022-09-25T07:03:08.579862",
     "exception": false,
     "start_time": "2022-09-25T07:03:08.543712",
     "status": "completed"
    },
    "tags": []
   },
   "outputs": [],
   "source": [
    "from tensorflow.keras.utils import to_categorical\n",
    "#normalize feature set in range (0,1)\n",
    "featureSet = caer.normalize(featureSet)\n",
    "labels = to_categorical(labels,len(characters))\n"
   ]
  },
  {
   "cell_type": "code",
   "execution_count": 11,
   "id": "caf0fa22",
   "metadata": {
    "execution": {
     "iopub.execute_input": "2022-09-25T07:03:08.601114Z",
     "iopub.status.busy": "2022-09-25T07:03:08.600803Z",
     "iopub.status.idle": "2022-09-25T07:03:08.772216Z",
     "shell.execute_reply": "2022-09-25T07:03:08.771291Z"
    },
    "papermill": {
     "duration": 0.184701,
     "end_time": "2022-09-25T07:03:08.774683",
     "exception": false,
     "start_time": "2022-09-25T07:03:08.589982",
     "status": "completed"
    },
    "tags": []
   },
   "outputs": [],
   "source": [
    "#training and validation data\n",
    "x_train,x_val,y_train,y_val = caer.train_val_split(featureSet,labels,val_ratio = 0.2)"
   ]
  },
  {
   "cell_type": "code",
   "execution_count": 12,
   "id": "adb6d9b1",
   "metadata": {
    "execution": {
     "iopub.execute_input": "2022-09-25T07:03:08.795666Z",
     "iopub.status.busy": "2022-09-25T07:03:08.795367Z",
     "iopub.status.idle": "2022-09-25T07:03:08.944026Z",
     "shell.execute_reply": "2022-09-25T07:03:08.943043Z"
    },
    "papermill": {
     "duration": 0.161343,
     "end_time": "2022-09-25T07:03:08.946059",
     "exception": false,
     "start_time": "2022-09-25T07:03:08.784716",
     "status": "completed"
    },
    "tags": []
   },
   "outputs": [
    {
     "data": {
      "text/plain": [
       "21"
      ]
     },
     "execution_count": 12,
     "metadata": {},
     "output_type": "execute_result"
    }
   ],
   "source": [
    "#removing variables which arent useful to save memory\n",
    "del train\n",
    "del featureSet\n",
    "del labels\n",
    "gc.collect()"
   ]
  },
  {
   "cell_type": "code",
   "execution_count": 13,
   "id": "99938f8b",
   "metadata": {
    "execution": {
     "iopub.execute_input": "2022-09-25T07:03:08.967246Z",
     "iopub.status.busy": "2022-09-25T07:03:08.966463Z",
     "iopub.status.idle": "2022-09-25T07:03:08.970914Z",
     "shell.execute_reply": "2022-09-25T07:03:08.970028Z"
    },
    "papermill": {
     "duration": 0.016973,
     "end_time": "2022-09-25T07:03:08.972946",
     "exception": false,
     "start_time": "2022-09-25T07:03:08.955973",
     "status": "completed"
    },
    "tags": []
   },
   "outputs": [],
   "source": [
    "BATCH_SIZE =32\n",
    "EPOCHS = 10"
   ]
  },
  {
   "cell_type": "code",
   "execution_count": 14,
   "id": "f7bf9172",
   "metadata": {
    "execution": {
     "iopub.execute_input": "2022-09-25T07:03:08.994280Z",
     "iopub.status.busy": "2022-09-25T07:03:08.994003Z",
     "iopub.status.idle": "2022-09-25T07:03:08.999890Z",
     "shell.execute_reply": "2022-09-25T07:03:08.998848Z"
    },
    "papermill": {
     "duration": 0.018878,
     "end_time": "2022-09-25T07:03:09.001922",
     "exception": false,
     "start_time": "2022-09-25T07:03:08.983044",
     "status": "completed"
    },
    "tags": []
   },
   "outputs": [],
   "source": [
    "#image data generator\n",
    "datagen = canaro.generators.imageDataGenerator()\n",
    "train_gen = datagen.flow(x_train, y_train, batch_size=BATCH_SIZE)"
   ]
  },
  {
   "cell_type": "code",
   "execution_count": 15,
   "id": "5d27db86",
   "metadata": {
    "execution": {
     "iopub.execute_input": "2022-09-25T07:03:09.022281Z",
     "iopub.status.busy": "2022-09-25T07:03:09.021967Z",
     "iopub.status.idle": "2022-09-25T07:03:11.916286Z",
     "shell.execute_reply": "2022-09-25T07:03:11.915293Z"
    },
    "papermill": {
     "duration": 2.907739,
     "end_time": "2022-09-25T07:03:11.919277",
     "exception": false,
     "start_time": "2022-09-25T07:03:09.011538",
     "status": "completed"
    },
    "tags": []
   },
   "outputs": [
    {
     "name": "stderr",
     "output_type": "stream",
     "text": [
      "/opt/conda/lib/python3.7/site-packages/keras/optimizer_v2/optimizer_v2.py:356: UserWarning: The `lr` argument is deprecated, use `learning_rate` instead.\n",
      "  \"The `lr` argument is deprecated, use `learning_rate` instead.\")\n"
     ]
    }
   ],
   "source": [
    "#creating the model\n",
    "model = canaro.models.createSimpsonsModel(IMG_SIZE=IMG_SIZE,channels = channels, output_dim =len(characters),\n",
    "                                         loss = 'binary_crossentropy',decay = 1e-6,learning_rate =.001,\n",
    "                                         momentum = 0.9,nesterov=True)"
   ]
  },
  {
   "cell_type": "code",
   "execution_count": 16,
   "id": "a5506e16",
   "metadata": {
    "execution": {
     "iopub.execute_input": "2022-09-25T07:03:11.941892Z",
     "iopub.status.busy": "2022-09-25T07:03:11.941551Z",
     "iopub.status.idle": "2022-09-25T07:03:11.948509Z",
     "shell.execute_reply": "2022-09-25T07:03:11.947585Z"
    },
    "papermill": {
     "duration": 0.021377,
     "end_time": "2022-09-25T07:03:11.951953",
     "exception": false,
     "start_time": "2022-09-25T07:03:11.930576",
     "status": "completed"
    },
    "tags": []
   },
   "outputs": [
    {
     "name": "stdout",
     "output_type": "stream",
     "text": [
      "Model: \"sequential_1\"\n",
      "_________________________________________________________________\n",
      "Layer (type)                 Output Shape              Param #   \n",
      "=================================================================\n",
      "conv2d_6 (Conv2D)            (None, 80, 80, 32)        320       \n",
      "_________________________________________________________________\n",
      "conv2d_7 (Conv2D)            (None, 78, 78, 32)        9248      \n",
      "_________________________________________________________________\n",
      "max_pooling2d_3 (MaxPooling2 (None, 39, 39, 32)        0         \n",
      "_________________________________________________________________\n",
      "dropout_4 (Dropout)          (None, 39, 39, 32)        0         \n",
      "_________________________________________________________________\n",
      "conv2d_8 (Conv2D)            (None, 39, 39, 64)        18496     \n",
      "_________________________________________________________________\n",
      "conv2d_9 (Conv2D)            (None, 37, 37, 64)        36928     \n",
      "_________________________________________________________________\n",
      "max_pooling2d_4 (MaxPooling2 (None, 18, 18, 64)        0         \n",
      "_________________________________________________________________\n",
      "dropout_5 (Dropout)          (None, 18, 18, 64)        0         \n",
      "_________________________________________________________________\n",
      "conv2d_10 (Conv2D)           (None, 18, 18, 256)       147712    \n",
      "_________________________________________________________________\n",
      "conv2d_11 (Conv2D)           (None, 16, 16, 256)       590080    \n",
      "_________________________________________________________________\n",
      "max_pooling2d_5 (MaxPooling2 (None, 8, 8, 256)         0         \n",
      "_________________________________________________________________\n",
      "dropout_6 (Dropout)          (None, 8, 8, 256)         0         \n",
      "_________________________________________________________________\n",
      "flatten_1 (Flatten)          (None, 16384)             0         \n",
      "_________________________________________________________________\n",
      "dropout_7 (Dropout)          (None, 16384)             0         \n",
      "_________________________________________________________________\n",
      "dense_1 (Dense)              (None, 1024)              16778240  \n",
      "_________________________________________________________________\n",
      "dense_2 (Dense)              (None, 10)                10250     \n",
      "=================================================================\n",
      "Total params: 17,591,274\n",
      "Trainable params: 17,591,274\n",
      "Non-trainable params: 0\n",
      "_________________________________________________________________\n"
     ]
    }
   ],
   "source": [
    "model.summary()"
   ]
  },
  {
   "cell_type": "code",
   "execution_count": 17,
   "id": "ad71a7d4",
   "metadata": {
    "execution": {
     "iopub.execute_input": "2022-09-25T07:03:11.972946Z",
     "iopub.status.busy": "2022-09-25T07:03:11.972184Z",
     "iopub.status.idle": "2022-09-25T07:03:11.976991Z",
     "shell.execute_reply": "2022-09-25T07:03:11.976184Z"
    },
    "papermill": {
     "duration": 0.01725,
     "end_time": "2022-09-25T07:03:11.978915",
     "exception": false,
     "start_time": "2022-09-25T07:03:11.961665",
     "status": "completed"
    },
    "tags": []
   },
   "outputs": [],
   "source": [
    "from tensorflow.keras.callbacks import LearningRateScheduler\n",
    "callbacks_list = [\n",
    "    LearningRateScheduler(canaro.lr_schedule)]"
   ]
  },
  {
   "cell_type": "code",
   "execution_count": 18,
   "id": "d7a732af",
   "metadata": {
    "execution": {
     "iopub.execute_input": "2022-09-25T07:03:12.000413Z",
     "iopub.status.busy": "2022-09-25T07:03:11.999662Z",
     "iopub.status.idle": "2022-09-25T07:03:41.038530Z",
     "shell.execute_reply": "2022-09-25T07:03:41.037344Z"
    },
    "papermill": {
     "duration": 29.052149,
     "end_time": "2022-09-25T07:03:41.040863",
     "exception": false,
     "start_time": "2022-09-25T07:03:11.988714",
     "status": "completed"
    },
    "tags": []
   },
   "outputs": [
    {
     "name": "stdout",
     "output_type": "stream",
     "text": [
      "Epoch 1/10\n",
      "48/48 [==============================] - 9s 44ms/step - loss: 0.3337 - accuracy: 0.5966 - val_loss: 0.2466 - val_accuracy: 0.5806\n",
      "Epoch 2/10\n",
      "48/48 [==============================] - 1s 27ms/step - loss: 0.2190 - accuracy: 0.6274 - val_loss: 0.2403 - val_accuracy: 0.5806\n",
      "Epoch 3/10\n",
      "48/48 [==============================] - 1s 27ms/step - loss: 0.2161 - accuracy: 0.6326 - val_loss: 0.2378 - val_accuracy: 0.5806\n",
      "Epoch 4/10\n",
      "48/48 [==============================] - 1s 27ms/step - loss: 0.2176 - accuracy: 0.6293 - val_loss: 0.2403 - val_accuracy: 0.5806\n",
      "Epoch 5/10\n",
      "48/48 [==============================] - 1s 27ms/step - loss: 0.2163 - accuracy: 0.6270 - val_loss: 0.2362 - val_accuracy: 0.5806\n",
      "Epoch 6/10\n",
      "48/48 [==============================] - 2s 32ms/step - loss: 0.2158 - accuracy: 0.6293 - val_loss: 0.2396 - val_accuracy: 0.5806\n",
      "Epoch 7/10\n",
      "48/48 [==============================] - 1s 27ms/step - loss: 0.2163 - accuracy: 0.6289 - val_loss: 0.2371 - val_accuracy: 0.5806\n",
      "Epoch 8/10\n",
      "48/48 [==============================] - 1s 27ms/step - loss: 0.2173 - accuracy: 0.6280 - val_loss: 0.2501 - val_accuracy: 0.5806\n",
      "Epoch 9/10\n",
      "48/48 [==============================] - 1s 27ms/step - loss: 0.2156 - accuracy: 0.6287 - val_loss: 0.2373 - val_accuracy: 0.5806\n",
      "Epoch 10/10\n",
      "48/48 [==============================] - 1s 27ms/step - loss: 0.2156 - accuracy: 0.6300 - val_loss: 0.2369 - val_accuracy: 0.5806\n"
     ]
    }
   ],
   "source": [
    "\n",
    "training = model.fit(train_gen,\n",
    "                    steps_per_epoch=len(x_train)//BATCH_SIZE,\n",
    "                    epochs=EPOCHS,\n",
    "                    validation_data=(x_val,y_val),\n",
    "                    validation_steps=len(y_val)//BATCH_SIZE,\n",
    "                    callbacks = callbacks_list)"
   ]
  },
  {
   "cell_type": "code",
   "execution_count": 19,
   "id": "9988fd46",
   "metadata": {
    "execution": {
     "iopub.execute_input": "2022-09-25T07:03:41.086390Z",
     "iopub.status.busy": "2022-09-25T07:03:41.086056Z",
     "iopub.status.idle": "2022-09-25T07:03:41.091996Z",
     "shell.execute_reply": "2022-09-25T07:03:41.091069Z"
    },
    "papermill": {
     "duration": 0.030602,
     "end_time": "2022-09-25T07:03:41.093953",
     "exception": false,
     "start_time": "2022-09-25T07:03:41.063351",
     "status": "completed"
    },
    "tags": []
   },
   "outputs": [
    {
     "data": {
      "text/plain": [
       "['rainier_wolfcastle',\n",
       " 'maggie_simpson',\n",
       " 'krusty_the_clown',\n",
       " 'waylon_smithers',\n",
       " 'professor_john_frink',\n",
       " 'fat_tony',\n",
       " 'ralph_wiggum',\n",
       " 'otto_mann',\n",
       " 'martin_prince',\n",
       " 'barney_gumble']"
      ]
     },
     "execution_count": 19,
     "metadata": {},
     "output_type": "execute_result"
    }
   ],
   "source": [
    "#use opencv to test how good our project is\n",
    "characters\n"
   ]
  },
  {
   "cell_type": "code",
   "execution_count": 20,
   "id": "82bc1df7",
   "metadata": {
    "execution": {
     "iopub.execute_input": "2022-09-25T07:03:41.137909Z",
     "iopub.status.busy": "2022-09-25T07:03:41.137348Z",
     "iopub.status.idle": "2022-09-25T07:03:41.500258Z",
     "shell.execute_reply": "2022-09-25T07:03:41.499176Z"
    },
    "papermill": {
     "duration": 0.387976,
     "end_time": "2022-09-25T07:03:41.502950",
     "exception": false,
     "start_time": "2022-09-25T07:03:41.114974",
     "status": "completed"
    },
    "tags": []
   },
   "outputs": [
    {
     "data": {
      "image/png": "[encoded data removed]",
      "text/plain": [
       "<Figure size 432x288 with 1 Axes>"
      ]
     },
     "metadata": {
      "needs_background": "light"
     },
     "output_type": "display_data"
    },
    {
     "name": "stdout",
     "output_type": "stream",
     "text": [
      "krusty_the_clown\n"
     ]
    }
   ],
   "source": [
    "test_path = r'../input/the-simpsons-characters-dataset/kaggle_simpson_testset/kaggle_simpson_testset/krusty_the_clown_1.jpg'\n",
    "img = cv.imread(test_path)\n",
    "# plt.imshow(img,cmap='gray')\n",
    "# plt.show()\n",
    "plt.imshow(img)\n",
    "plt.show()\n",
    "\n",
    "\n",
    "def prepare(img):\n",
    "    img = cv.cvtColor(img,cv.COLOR_BGR2GRAY)\n",
    "    img = cv.resize(img,IMG_SIZE)\n",
    "    img = caer.reshape(img,IMG_SIZE,1)\n",
    "    return img\n",
    "predictions = model.predict(prepare(img))\n",
    "\n",
    "# Getting class with the highest probability\n",
    "print(characters[np.argmax(predictions[0])])\n"
   ]
  },
  {
   "cell_type": "raw",
   "id": "31c36645",
   "metadata": {
    "papermill": {
     "duration": 0.021733,
     "end_time": "2022-09-25T07:03:41.546497",
     "exception": false,
     "start_time": "2022-09-25T07:03:41.524764",
     "status": "completed"
    },
    "tags": []
   },
   "source": []
  },
  {
   "cell_type": "raw",
   "id": "8c8a34dc",
   "metadata": {
    "papermill": {
     "duration": 0.021943,
     "end_time": "2022-09-25T07:03:41.590139",
     "exception": false,
     "start_time": "2022-09-25T07:03:41.568196",
     "status": "completed"
    },
    "tags": []
   },
   "source": []
  },
  {
   "cell_type": "code",
   "execution_count": null,
   "id": "3c073328",
   "metadata": {
    "papermill": {
     "duration": 0.020948,
     "end_time": "2022-09-25T07:03:41.633388",
     "exception": false,
     "start_time": "2022-09-25T07:03:41.612440",
     "status": "completed"
    },
    "tags": []
   },
   "outputs": [],
   "source": []
  }
 ],
 "metadata": {
  "kernelspec": {
   "display_name": "Python 3",
   "language": "python",
   "name": "python3"
  },
  "language_info": {
   "codemirror_mode": {
    "name": "ipython",
    "version": 3
   },
   "file_extension": ".py",
   "mimetype": "text/x-python",
   "name": "python",
   "nbconvert_exporter": "python",
   "pygments_lexer": "ipython3",
   "version": "3.7.12"
  },
  "papermill": {
   "default_parameters": {},
   "duration": 100.305492,
   "end_time": "2022-09-25T07:03:44.944055",
   "environment_variables": {},
   "exception": null,
   "input_path": "__notebook__.ipynb",
   "output_path": "__notebook__.ipynb",
   "parameters": {},
   "start_time": "2022-09-25T07:02:04.638563",
   "version": "2.3.4"
  }
 },
 "nbformat": 4,
 "nbformat_minor": 5
}
